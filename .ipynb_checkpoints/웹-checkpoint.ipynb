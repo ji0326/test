{
 "cells": [
  {
   "cell_type": "code",
   "execution_count": 1,
   "metadata": {},
   "outputs": [],
   "source": [
    "import sqlite3\n",
    "from flask import Flask, render_template, request\n",
    "import numpy as np"
   ]
  },
  {
   "cell_type": "code",
   "execution_count": 2,
   "metadata": {},
   "outputs": [
    {
     "name": "stdout",
     "output_type": "stream",
     "text": [
      " * Serving Flask app \"__main__\" (lazy loading)\n",
      " * Environment: production\n",
      "\u001b[31m   WARNING: This is a development server. Do not use it in a production deployment.\u001b[0m\n",
      "\u001b[2m   Use a production WSGI server instead.\u001b[0m\n",
      " * Debug mode: off\n"
     ]
    },
    {
     "name": "stderr",
     "output_type": "stream",
     "text": [
      " * Running on http://127.0.0.1:5000/ (Press CTRL+C to quit)\n"
     ]
    }
   ],
   "source": [
    "#플라스크 객체 생성\n",
    "app=Flask(__name__)\n",
    "\n",
    "#-------------------------로그인 페이지-----------------------\n",
    "\n",
    "#로그인 폼 렌더링\n",
    "#/ 경로 요청 시 실행 함수\n",
    "@app.route('/') #요청 경로 지정\n",
    "def login(): #실행 함수 작성\n",
    "    return render_template('login.html') #login.html 파일 렌더링\n",
    "\n",
    "\n",
    "#로그인 처리\n",
    "#/login1 경로 요청 시 실행 함수\n",
    "@app.route('/login1', methods=['POST']) #요청 경로 지정, form태그의 매개변수 값 전달 방식_POST\n",
    "def login1(): #실행 함수 작성\n",
    "    #폼 입력값 가져오기\n",
    "    idn=request.form['id']\n",
    "    pwd=request.form['passwd']\n",
    "    \n",
    "    #데이터베이스 연결\n",
    "    conn=sqlite3.connect('welfaremember.db')\n",
    "    conn.row_factory=sqlite3.Row\n",
    "    cursor=conn.cursor()\n",
    "    #계정 id 레코드 읽기\n",
    "    cursor.execute('select*from loginmeminfo where id=?',(idn,))\n",
    "    row=cursor.fetchone()\n",
    "    conn.close()\n",
    "    \n",
    "    #계정/비번 조사\n",
    "    if row!=None:\n",
    "        if idn==row['id']and pwd==row['passwd']:\n",
    "            return render_template('registration.html')\n",
    "        \n",
    "    return(\"<h2>로그인 에러!!</h2>\")\n",
    "#플라스크 서버 구동\n",
    "if __name__=='__main__':\n",
    "    app.run()  #실행되는 컴퓨터 IP 주소, 포트번호 5000"
   ]
  },
  {
   "cell_type": "code",
   "execution_count": 3,
   "metadata": {},
   "outputs": [
    {
     "ename": "AssertionError",
     "evalue": "View function mapping is overwriting an existing endpoint function: login",
     "output_type": "error",
     "traceback": [
      "\u001b[1;31m---------------------------------------------------------------------------\u001b[0m",
      "\u001b[1;31mAssertionError\u001b[0m                            Traceback (most recent call last)",
      "Input \u001b[1;32mIn [3]\u001b[0m, in \u001b[0;36m<cell line: 3>\u001b[1;34m()\u001b[0m\n\u001b[0;32m      1\u001b[0m \u001b[38;5;66;03m# 로그인 폼 렌더링\u001b[39;00m\n\u001b[0;32m      2\u001b[0m \u001b[38;5;66;03m# / 경로 요청 시 실행 함수\u001b[39;00m\n\u001b[0;32m      3\u001b[0m \u001b[38;5;129;43m@app\u001b[39;49m\u001b[38;5;241;43m.\u001b[39;49m\u001b[43mroute\u001b[49m\u001b[43m(\u001b[49m\u001b[38;5;124;43m'\u001b[39;49m\u001b[38;5;124;43m/home\u001b[39;49m\u001b[38;5;124;43m'\u001b[39;49m\u001b[43m)\u001b[49m\u001b[43m \u001b[49m\u001b[38;5;66;43;03m# 요청 경로 지정\u001b[39;49;00m\n\u001b[1;32m----> 4\u001b[0m \u001b[38;5;28;43;01mdef\u001b[39;49;00m\u001b[43m \u001b[49m\u001b[38;5;21;43mlogin\u001b[39;49m\u001b[43m(\u001b[49m\u001b[43m)\u001b[49m\u001b[43m:\u001b[49m\n\u001b[0;32m      5\u001b[0m \u001b[43m    \u001b[49m\u001b[38;5;28;43;01mreturn\u001b[39;49;00m\u001b[43m \u001b[49m\u001b[43mrender_template\u001b[49m\u001b[43m(\u001b[49m\u001b[38;5;124;43m'\u001b[39;49m\u001b[38;5;124;43mlogin.html\u001b[39;49m\u001b[38;5;124;43m'\u001b[39;49m\u001b[43m)\u001b[49m\n\u001b[0;32m      7\u001b[0m \u001b[38;5;129m@app\u001b[39m\u001b[38;5;241m.\u001b[39mroute(\u001b[38;5;124m'\u001b[39m\u001b[38;5;124m/login1\u001b[39m\u001b[38;5;124m'\u001b[39m, methods\u001b[38;5;241m=\u001b[39m[\u001b[38;5;124m'\u001b[39m\u001b[38;5;124mPOST\u001b[39m\u001b[38;5;124m'\u001b[39m])\n\u001b[0;32m      8\u001b[0m \u001b[38;5;28;01mdef\u001b[39;00m \u001b[38;5;21mlogin1\u001b[39m():\n\u001b[0;32m      9\u001b[0m     \u001b[38;5;66;03m# 폼 입력값 가져오기\u001b[39;00m\n",
      "File \u001b[1;32m~\\anaconda3\\lib\\site-packages\\flask\\app.py:1315\u001b[0m, in \u001b[0;36mFlask.route.<locals>.decorator\u001b[1;34m(f)\u001b[0m\n\u001b[0;32m   1313\u001b[0m \u001b[38;5;28;01mdef\u001b[39;00m \u001b[38;5;21mdecorator\u001b[39m(f):\n\u001b[0;32m   1314\u001b[0m     endpoint \u001b[38;5;241m=\u001b[39m options\u001b[38;5;241m.\u001b[39mpop(\u001b[38;5;124m\"\u001b[39m\u001b[38;5;124mendpoint\u001b[39m\u001b[38;5;124m\"\u001b[39m, \u001b[38;5;28;01mNone\u001b[39;00m)\n\u001b[1;32m-> 1315\u001b[0m     \u001b[38;5;28mself\u001b[39m\u001b[38;5;241m.\u001b[39madd_url_rule(rule, endpoint, f, \u001b[38;5;241m*\u001b[39m\u001b[38;5;241m*\u001b[39moptions)\n\u001b[0;32m   1316\u001b[0m     \u001b[38;5;28;01mreturn\u001b[39;00m f\n",
      "File \u001b[1;32m~\\anaconda3\\lib\\site-packages\\flask\\app.py:98\u001b[0m, in \u001b[0;36msetupmethod.<locals>.wrapper_func\u001b[1;34m(self, *args, **kwargs)\u001b[0m\n\u001b[0;32m     88\u001b[0m \u001b[38;5;28;01mif\u001b[39;00m \u001b[38;5;28mself\u001b[39m\u001b[38;5;241m.\u001b[39mdebug \u001b[38;5;129;01mand\u001b[39;00m \u001b[38;5;28mself\u001b[39m\u001b[38;5;241m.\u001b[39m_got_first_request:\n\u001b[0;32m     89\u001b[0m     \u001b[38;5;28;01mraise\u001b[39;00m \u001b[38;5;167;01mAssertionError\u001b[39;00m(\n\u001b[0;32m     90\u001b[0m         \u001b[38;5;124m\"\u001b[39m\u001b[38;5;124mA setup function was called after the \u001b[39m\u001b[38;5;124m\"\u001b[39m\n\u001b[0;32m     91\u001b[0m         \u001b[38;5;124m\"\u001b[39m\u001b[38;5;124mfirst request was handled.  This usually indicates a bug \u001b[39m\u001b[38;5;124m\"\u001b[39m\n\u001b[1;32m   (...)\u001b[0m\n\u001b[0;32m     96\u001b[0m         \u001b[38;5;124m\"\u001b[39m\u001b[38;5;124mbefore the application starts serving requests.\u001b[39m\u001b[38;5;124m\"\u001b[39m\n\u001b[0;32m     97\u001b[0m     )\n\u001b[1;32m---> 98\u001b[0m \u001b[38;5;28;01mreturn\u001b[39;00m f(\u001b[38;5;28mself\u001b[39m, \u001b[38;5;241m*\u001b[39margs, \u001b[38;5;241m*\u001b[39m\u001b[38;5;241m*\u001b[39mkwargs)\n",
      "File \u001b[1;32m~\\anaconda3\\lib\\site-packages\\flask\\app.py:1282\u001b[0m, in \u001b[0;36mFlask.add_url_rule\u001b[1;34m(self, rule, endpoint, view_func, provide_automatic_options, **options)\u001b[0m\n\u001b[0;32m   1280\u001b[0m old_func \u001b[38;5;241m=\u001b[39m \u001b[38;5;28mself\u001b[39m\u001b[38;5;241m.\u001b[39mview_functions\u001b[38;5;241m.\u001b[39mget(endpoint)\n\u001b[0;32m   1281\u001b[0m \u001b[38;5;28;01mif\u001b[39;00m old_func \u001b[38;5;129;01mis\u001b[39;00m \u001b[38;5;129;01mnot\u001b[39;00m \u001b[38;5;28;01mNone\u001b[39;00m \u001b[38;5;129;01mand\u001b[39;00m old_func \u001b[38;5;241m!=\u001b[39m view_func:\n\u001b[1;32m-> 1282\u001b[0m     \u001b[38;5;28;01mraise\u001b[39;00m \u001b[38;5;167;01mAssertionError\u001b[39;00m(\n\u001b[0;32m   1283\u001b[0m         \u001b[38;5;124m\"\u001b[39m\u001b[38;5;124mView function mapping is overwriting an \u001b[39m\u001b[38;5;124m\"\u001b[39m\n\u001b[0;32m   1284\u001b[0m         \u001b[38;5;124m\"\u001b[39m\u001b[38;5;124mexisting endpoint function: \u001b[39m\u001b[38;5;132;01m%s\u001b[39;00m\u001b[38;5;124m\"\u001b[39m \u001b[38;5;241m%\u001b[39m endpoint\n\u001b[0;32m   1285\u001b[0m     )\n\u001b[0;32m   1286\u001b[0m \u001b[38;5;28mself\u001b[39m\u001b[38;5;241m.\u001b[39mview_functions[endpoint] \u001b[38;5;241m=\u001b[39m view_func\n",
      "\u001b[1;31mAssertionError\u001b[0m: View function mapping is overwriting an existing endpoint function: login"
     ]
    }
   ],
   "source": [
    "# 로그인 폼 렌더링\n",
    "# / 경로 요청 시 실행 함수\n",
    "@app.route('/home') # 요청 경로 지정\n",
    "def login():\n",
    "    return render_template('login.html')\n",
    "\n",
    "@app.route('/login1', methods=['POST'])\n",
    "def login1():\n",
    "    # 폼 입력값 가져오기\n",
    "    idn = request.form['id']\n",
    "    pwd = request.form['passwd']\n",
    "\n",
    "    # 데이터 베이스 연결\n",
    "    conn = sqlite3.connect('member.db')\n",
    "    conn.row_factory=sqlite3.Row\n",
    "    cursor=conn.cursor()\n",
    "\n",
    "    # 계정 id 레코드 읽기\n",
    "\n",
    "    cursor.execute('select*from 회원정보 where id=?', (idn))\n",
    "    row = cursor.fetchone()\n",
    "    conn.close()\n",
    "\n",
    "    # 계정/비번 조사\n",
    "    if row!=None:\n",
    "        if idn == row['id'] and pwd == row['passwd']:\n",
    "            return render_template('')\n",
    "\n",
    "    return (\"<h2>로그인 에러!!</h2>\")\n",
    "\n",
    "\n",
    "\n",
    "# 플라스크 서버 구동\n",
    "if __name__ == '__main__':\n",
    "    app.run()"
   ]
  }
 ],
 "metadata": {
  "kernelspec": {
   "display_name": "Python 3 (ipykernel)",
   "language": "python",
   "name": "python3"
  },
  "language_info": {
   "codemirror_mode": {
    "name": "ipython",
    "version": 3
   },
   "file_extension": ".py",
   "mimetype": "text/x-python",
   "name": "python",
   "nbconvert_exporter": "python",
   "pygments_lexer": "ipython3",
   "version": "3.9.12"
  },
  "vscode": {
   "interpreter": {
    "hash": "e0490b6dc23274fc4b99f7f9728dd8f7f25e55907c8566e06726599f273a4cfc"
   }
  }
 },
 "nbformat": 4,
 "nbformat_minor": 2
}
