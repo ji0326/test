{
 "cells": [
  {
   "cell_type": "code",
   "execution_count": 2,
   "metadata": {},
   "outputs": [],
   "source": [
    "import sqlite3\n",
    "from flask import Flask, render_template, request\n",
    "import numpy as np\n",
    "\n",
    "import urllib.request\n",
    "from bs4 import BeautifulSoup\n",
    "from flask import Flask, render_template, request\n",
    "import sqlite3\n",
    "\n",
    "app = Flask(__name__)\n",
    "\n",
    "conn = sqlite3.connect(\"music.db\")\n",
    "cursor = conn.cursor()\n"
   ]
  },
  {
   "cell_type": "code",
   "execution_count": 3,
   "metadata": {},
   "outputs": [
    {
     "name": "stdout",
     "output_type": "stream",
     "text": [
      "2022.11.25랩/힙합\n"
     ]
    }
   ],
   "source": [
    "conn=sqlite3.connect('music.db')\n",
    "conn.row_factory=sqlite3.Row\n",
    "cursor=conn.cursor()\n",
    "#계정 id 레코드 읽기\n",
    "#cursor.execute('select name from tablename')\n",
    "cursor.execute('select*from tablename')\n",
    "rows=cursor.fetchall()\n",
    "\n",
    "ins = []\n",
    "\n",
    "for row in rows:\n",
    "    ins.append(row['name'])\n",
    "\n",
    "conn.close()\n",
    "\n",
    "print(ins[0])\n",
    "\n",
    "\n"
   ]
  },
  {
   "cell_type": "code",
   "execution_count": 8,
   "metadata": {},
   "outputs": [
    {
     "name": "stdout",
     "output_type": "stream",
     "text": [
      "('1위', '새삥 (Prod. ZICO) (Feat. 호미들)', '지코 (ZICO)', '스트릿 맨 파이터(SMF) Original Vol.3 (계급미션)', 'https://www.youtube.com/results?search_query=스트릿 맨 파이터(SMF) Original Vol.3 (계급미션)', 'https://www.youtube.com/results?search_query=지코 (ZICO)')\n",
      "('2위', 'Shut Down', 'BLACKPINK', 'BORN PINK', 'https://www.youtube.com/results?search_query=BORN PINK', 'https://www.youtube.com/results?search_query=BLACKPINK')\n",
      "('3위', 'Pink Venom', 'BLACKPINK', 'BORN PINK', 'https://www.youtube.com/results?search_query=BORN PINK', 'https://www.youtube.com/results?search_query=BLACKPINK')\n",
      "('4위', '자격지심 (Feat. ZICO)', \"BE'O (비오)\", 'FIVE SENSES', 'https://www.youtube.com/results?search_query=FIVE SENSES', \"https://www.youtube.com/results?search_query=BE'O (비오)\")\n",
      "('5위', '내 기쁨은 너가 벤틀리를 끄는 거야', '김승민', 'PROTOTYPE RESEARCH #0063', 'https://www.youtube.com/results?search_query=PROTOTYPE RESEARCH #0063', 'https://www.youtube.com/results?search_query=김승민')\n",
      "('6위', 'LOVE me', \"BE'O (비오)\", 'LOVE me', 'https://www.youtube.com/results?search_query=LOVE me', \"https://www.youtube.com/results?search_query=BE'O (비오)\")\n",
      "('7위', 'LAW (Prod. Czaer)', '윤미래', '스트릿 맨 파이터(SMF) Original Vol.3 (계급미션)', 'https://www.youtube.com/results?search_query=스트릿 맨 파이터(SMF) Original Vol.3 (계급미션)', 'https://www.youtube.com/results?search_query=윤미래')\n",
      "('8위', '회전목마 (Feat. Zion.T, 원슈타인) (Prod. Slom)', 'sokodomo', '쇼미더머니 10 Episode 2', 'https://www.youtube.com/results?search_query=쇼미더머니 10 Episode 2', 'https://www.youtube.com/results?search_query=sokodomo')\n",
      "('9위', 'MY BAG', '(여자)아이들', 'I NEVER DIE', 'https://www.youtube.com/results?search_query=I NEVER DIE', 'https://www.youtube.com/results?search_query=(여자)아이들')\n",
      "('10위', '봄날', '방탄소년단', 'YOU NEVER WALK ALONE', 'https://www.youtube.com/results?search_query=YOU NEVER WALK ALONE', 'https://www.youtube.com/results?search_query=방탄소년단')\n",
      "('11위', 'Yet To Come', '방탄소년단', 'Proof', 'https://www.youtube.com/results?search_query=Proof', 'https://www.youtube.com/results?search_query=방탄소년단')\n",
      "('12위', 'A bientot', '임영웅', 'IM HERO', 'https://www.youtube.com/results?search_query=IM HERO', 'https://www.youtube.com/results?search_query=임영웅')\n",
      "('13위', 'OHAYO MY NIGHT', '디핵 (D-Hack)', 'OHAYO MY NIGHT', 'https://www.youtube.com/results?search_query=OHAYO MY NIGHT', 'https://www.youtube.com/results?search_query=디핵 (D-Hack)')\n",
      "('14위', '리무진 (Feat. MINO) (Prod. GRAY)', \"BE'O (비오)\", '쇼미더머니 10 Episode 3', 'https://www.youtube.com/results?search_query=쇼미더머니 10 Episode 3', \"https://www.youtube.com/results?search_query=BE'O (비오)\")\n",
      "('15위', '사이렌 Remix (Feat. UNEDUCATED KID, Paul Blanco)', '호미들', '사이렌 Remix', 'https://www.youtube.com/results?search_query=사이렌 Remix', 'https://www.youtube.com/results?search_query=호미들')\n",
      "('16위', '열두시\\xa0땡', '오반', '주연', 'https://www.youtube.com/results?search_query=주연', 'https://www.youtube.com/results?search_query=오반')\n",
      "('17위', '문득', \"BE'O (비오)\", 'Bipolar', 'https://www.youtube.com/results?search_query=Bipolar', \"https://www.youtube.com/results?search_query=BE'O (비오)\")\n",
      "('18위', 'SUN GOES DOWN (Prod. R.Tee)', '저스디스 (JUSTHIS)', '쇼미더머니 11 Episode 0', 'https://www.youtube.com/results?search_query=쇼미더머니 11 Episode 0', 'https://www.youtube.com/results?search_query=저스디스 (JUSTHIS)')\n",
      "('19위', 'Counting Stars (Feat. Beenzino)', \"BE'O (비오)\", 'Counting Stars', 'https://www.youtube.com/results?search_query=Counting Stars', \"https://www.youtube.com/results?search_query=BE'O (비오)\")\n",
      "('20위', '잠수이별 (Prod. 코드 쿤스트)', '우원재', '잠수이별', 'https://www.youtube.com/results?search_query=잠수이별', 'https://www.youtube.com/results?search_query=우원재')\n",
      "('21위', 'METEOR', '창모 (CHANGMO)', 'Boyhood', 'https://www.youtube.com/results?search_query=Boyhood', 'https://www.youtube.com/results?search_query=창모 (CHANGMO)')\n",
      "('22위', 'Rainy day (Feat. ASH ISLAND, Skinny Brown)', 'PATEKO (파테코)', 'Rainy day', 'https://www.youtube.com/results?search_query=Rainy day', 'https://www.youtube.com/results?search_query=PATEKO (파테코)')\n",
      "('23위', '만남은 쉽고 이별은 어려워 (Feat. Leellamarz) (Prod. TOIL)', '베이식 (Basick)', '쇼미더머니 10 Episode 3', 'https://www.youtube.com/results?search_query=쇼미더머니 10 Episode 3', 'https://www.youtube.com/results?search_query=베이식 (Basick)')\n",
      "('24위', 'HOT', '세븐틴', \"SEVENTEEN 4th Album 'Face the Sun'\", \"https://www.youtube.com/results?search_query=SEVENTEEN 4th Album 'Face the Sun'\", 'https://www.youtube.com/results?search_query=세븐틴')\n",
      "('25위', 'Trip (Feat. Hannah)', '릴러말즈 (Leellamarz)', 'Trip', 'https://www.youtube.com/results?search_query=Trip', 'https://www.youtube.com/results?search_query=릴러말즈 (Leellamarz)')\n",
      "('26위', '어떻게 지내 (Prod. By VAN.C)', '오반', '어떻게 지내', 'https://www.youtube.com/results?search_query=어떻게 지내', 'https://www.youtube.com/results?search_query=오반')\n",
      "('27위', 'GONE (Feat. Paloalto) (Prod. TOIL)', '릴러말즈 (Leellamarz)', 'GONE', 'https://www.youtube.com/results?search_query=GONE', 'https://www.youtube.com/results?search_query=릴러말즈 (Leellamarz)')\n",
      "('28위', '낮 밤 (feat. 박재범)', '이영지', '낮 밤 (feat. 박재범)', 'https://www.youtube.com/results?search_query=낮 밤 (feat. 박재범)', 'https://www.youtube.com/results?search_query=이영지')\n",
      "('29위', 'Summer (Feat. BE’O (비오))', 'Paul Blanco', 'Summer', 'https://www.youtube.com/results?search_query=Summer', 'https://www.youtube.com/results?search_query=Paul Blanco')\n",
      "('30위', '시차 (We Are) (Feat. 로꼬 & GRAY)', '우원재', '시차 (We Are)', 'https://www.youtube.com/results?search_query=시차 (We Are)', 'https://www.youtube.com/results?search_query=우원재')\n",
      "('31위', '멜로디', 'ASH ISLAND', '멜로디', 'https://www.youtube.com/results?search_query=멜로디', 'https://www.youtube.com/results?search_query=ASH ISLAND')\n",
      "('32위', '우리', '우원재', 'comma', 'https://www.youtube.com/results?search_query=comma', 'https://www.youtube.com/results?search_query=우원재')\n",
      "('33위', 'Wake Up (Prod. 코드 쿤스트)', '개코', '쇼미더머니 10 Episode 1', 'https://www.youtube.com/results?search_query=쇼미더머니 10 Episode 1', 'https://www.youtube.com/results?search_query=개코')\n",
      "('34위', 'VVS (Feat. JUSTHIS) (Prod. GroovyRoom)', '미란이 (Mirani)', '쇼미더머니 9 Episode 1', 'https://www.youtube.com/results?search_query=쇼미더머니 9 Episode 1', 'https://www.youtube.com/results?search_query=미란이 (Mirani)')\n",
      "('35위', '네가 없는 밤 (Feat. ASH ISLAND) (Prod. GRAY)', \"BE'O (비오)\", '쇼미더머니 10 Final', 'https://www.youtube.com/results?search_query=쇼미더머니 10 Final', \"https://www.youtube.com/results?search_query=BE'O (비오)\")\n",
      "('36위', '달려라 방탄', '방탄소년단', 'Proof', 'https://www.youtube.com/results?search_query=Proof', 'https://www.youtube.com/results?search_query=방탄소년단')\n",
      "('37위', 'ZOOM', '제시 (Jessi)', 'ZOOM', 'https://www.youtube.com/results?search_query=ZOOM', 'https://www.youtube.com/results?search_query=제시 (Jessi)')\n",
      "('38위', '어땠을까 (Feat. 박정현)', '싸이 (PSY)', '싸이6甲 Part.1', 'https://www.youtube.com/results?search_query=싸이6甲 Part.1', 'https://www.youtube.com/results?search_query=싸이 (PSY)')\n",
      "('39위', \"검정색하트 (Feat. Leellamarz, BE'O)\", 'TOIL', 'Between Sat & Sun', 'https://www.youtube.com/results?search_query=Between Sat & Sun', 'https://www.youtube.com/results?search_query=TOIL')\n",
      "('40위', 'CASE 143', 'Stray Kids (스트레이 키즈)', 'MAXIDENT', 'https://www.youtube.com/results?search_query=MAXIDENT', 'https://www.youtube.com/results?search_query=Stray Kids (스트레이 키즈)')\n",
      "('41위', '아무노래', '지코 (ZICO)', '아무노래', 'https://www.youtube.com/results?search_query=아무노래', 'https://www.youtube.com/results?search_query=지코 (ZICO)')\n",
      "('42위', '오르골 (Life Is Still Going On)', 'NCT DREAM', 'Hello Future - The 1st Album Repackage', 'https://www.youtube.com/results?search_query=Hello Future - The 1st Album Repackage', 'https://www.youtube.com/results?search_query=NCT DREAM')\n",
      "('43위', '죽을 만큼 아파서 (Feat. 멜로우)', 'MC몽', '블루브랜드 Trauma Part 2', 'https://www.youtube.com/results?search_query=블루브랜드 Trauma Part 2', 'https://www.youtube.com/results?search_query=MC몽')\n",
      "('44위', 'Alone (Feat. 이하이)', '쿠기 (Coogie)', 'ALONE', 'https://www.youtube.com/results?search_query=ALONE', 'https://www.youtube.com/results?search_query=쿠기 (Coogie)')\n",
      "('45위', 'Officially Missing You', '긱스 (Geeks)', 'Officially Missing You', 'https://www.youtube.com/results?search_query=Officially Missing You', 'https://www.youtube.com/results?search_query=긱스 (Geeks)')\n",
      "('46위', '시간아 멈춰 (Feat. Leellamarz)  (Prod. TOIL)', '다이나믹 듀오', '시간아 멈춰', 'https://www.youtube.com/results?search_query=시간아 멈춰', 'https://www.youtube.com/results?search_query=다이나믹 듀오')\n",
      "('47위', '존재만으로', '원슈타인', '스물다섯 스물하나 OST Part 4', 'https://www.youtube.com/results?search_query=스물다섯 스물하나 OST Part 4', 'https://www.youtube.com/results?search_query=원슈타인')\n",
      "('48위', '거짓말', 'BIGBANG (빅뱅)', 'Always', 'https://www.youtube.com/results?search_query=Always', 'https://www.youtube.com/results?search_query=BIGBANG (빅뱅)')\n",
      "('49위', '헤어지지 못하는 여자, 떠나가지 못하는 남자 (Feat. 정인)', '리쌍', 'Hexagonal', 'https://www.youtube.com/results?search_query=Hexagonal', 'https://www.youtube.com/results?search_query=리쌍')\n",
      "('50위', '뚜두뚜두 (DDU-DU DDU-DU)', 'BLACKPINK', 'SQUARE UP', 'https://www.youtube.com/results?search_query=SQUARE UP', 'https://www.youtube.com/results?search_query=BLACKPINK')\n",
      "('51위', '우산 (Feat. 윤하)', '에픽하이 (EPIK HIGH)', 'Pieces, Part One', 'https://www.youtube.com/results?search_query=Pieces, Part One', 'https://www.youtube.com/results?search_query=에픽하이 (EPIK HIGH)')\n",
      "('52위', '쉬어 (Feat. MINO) (Prod. GRAY)', '아넌딜라이트(Anandelight)', '쇼미더머니 10 Episode 1', 'https://www.youtube.com/results?search_query=쇼미더머니 10 Episode 1', 'https://www.youtube.com/results?search_query=아넌딜라이트(Anandelight)')\n",
      "('53위', '우리서로사랑하지는말자', '기리보이', '영화같게', 'https://www.youtube.com/results?search_query=영화같게', 'https://www.youtube.com/results?search_query=기리보이')\n",
      "('54위', 'Downtown Baby', '블루 (BLOO)', 'Downtown Baby', 'https://www.youtube.com/results?search_query=Downtown Baby', 'https://www.youtube.com/results?search_query=블루 (BLOO)')\n",
      "('55위', '괴짜 (Freak)', '지코 (ZICO)', 'Grown Ass Kid', 'https://www.youtube.com/results?search_query=Grown Ass Kid', 'https://www.youtube.com/results?search_query=지코 (ZICO)')\n",
      "('56위', 'Everything', 'ASH ISLAND', 'Everything', 'https://www.youtube.com/results?search_query=Everything', 'https://www.youtube.com/results?search_query=ASH ISLAND')\n",
      "('57위', '하루 하루', 'BIGBANG (빅뱅)', 'Stand Up (2008 빅뱅 3rd Mini Album)', 'https://www.youtube.com/results?search_query=Stand Up (2008 빅뱅 3rd Mini Album)', 'https://www.youtube.com/results?search_query=BIGBANG (빅뱅)')\n",
      "('58위', '아름다워', '창모 (CHANGMO)', '돈 벌 시간 2', 'https://www.youtube.com/results?search_query=돈 벌 시간 2', 'https://www.youtube.com/results?search_query=창모 (CHANGMO)')\n",
      "('59위', '내일이 오면 (Feat. 기리보이, BIG Naughty (서동현))', '릴보이 (lIlBOI)', '쇼미더머니 9 Episode 3', 'https://www.youtube.com/results?search_query=쇼미더머니 9 Episode 3', 'https://www.youtube.com/results?search_query=릴보이 (lIlBOI)')\n",
      "('60위', '너에게 쓰는 편지 (Feat. 린)', 'MC몽', '180 Degree', 'https://www.youtube.com/results?search_query=180 Degree', 'https://www.youtube.com/results?search_query=MC몽')\n",
      "('61위', '악몽', 'ASH ISLAND', 'More ASH', 'https://www.youtube.com/results?search_query=More ASH', 'https://www.youtube.com/results?search_query=ASH ISLAND')\n",
      "('62위', '사임쌓임', 'Chin', 'The Money Team', 'https://www.youtube.com/results?search_query=The Money Team', 'https://www.youtube.com/results?search_query=Chin')\n",
      "('63위', '엉덩이가 큰 그녀 (Feat. The Quiett)', '릴러말즈 (Leellamarz)', 'TOYSTORY3', 'https://www.youtube.com/results?search_query=TOYSTORY3', 'https://www.youtube.com/results?search_query=릴러말즈 (Leellamarz)')\n",
      "('64위', '죽일 놈 (Guilty)', '다이나믹 듀오', 'Band Of Dynamic Brothers', 'https://www.youtube.com/results?search_query=Band Of Dynamic Brothers', 'https://www.youtube.com/results?search_query=다이나믹 듀오')\n",
      "('65위', 'OUT OF MY SIGHT', '릴러말즈 (Leellamarz)', 'VIOLINIST2', 'https://www.youtube.com/results?search_query=VIOLINIST2', 'https://www.youtube.com/results?search_query=릴러말즈 (Leellamarz)')\n",
      "('66위', 'Life Goes On', '방탄소년단', 'BE', 'https://www.youtube.com/results?search_query=BE', 'https://www.youtube.com/results?search_query=방탄소년단')\n",
      "('67위', 'Y (Please Tell Me Why)', '프리스타일', 'Freestyle 3', 'https://www.youtube.com/results?search_query=Freestyle 3', 'https://www.youtube.com/results?search_query=프리스타일')\n",
      "('68위', '무덤 위에 소주를 부어줘', '호미들', '무덤 위에 소주를 부어줘', 'https://www.youtube.com/results?search_query=무덤 위에 소주를 부어줘', 'https://www.youtube.com/results?search_query=호미들')\n",
      "('69위', \"Good Night (Feat. BE'O)\", '쿠기 (Coogie)', 'RE:UP', 'https://www.youtube.com/results?search_query=RE:UP', 'https://www.youtube.com/results?search_query=쿠기 (Coogie)')\n",
      "('70위', '자니 (Feat. Dynamic Duo)', '프라이머리', '자니', 'https://www.youtube.com/results?search_query=자니', 'https://www.youtube.com/results?search_query=프라이머리')\n",
      "('71위', '사랑을 했다 (LOVE SCENARIO)', 'iKON', 'Return', 'https://www.youtube.com/results?search_query=Return', 'https://www.youtube.com/results?search_query=iKON')\n",
      "('72위', '뜨거운 안녕 (Feat. 성시경)', '싸이 (PSY)', '싸이6甲 Part.1', 'https://www.youtube.com/results?search_query=싸이6甲 Part.1', 'https://www.youtube.com/results?search_query=싸이 (PSY)')\n",
      "('73위', '버킷리스트 (Feat. Skinny Brown)', '한요한', 'Time Machine', 'https://www.youtube.com/results?search_query=Time Machine', 'https://www.youtube.com/results?search_query=한요한')\n",
      "('74위', '비 오는 날 듣기 좋은 노래 (Feat. Colde)', '에픽하이 (EPIK HIGH)', '비 오는 날 듣기 좋은 노래', 'https://www.youtube.com/results?search_query=비 오는 날 듣기 좋은 노래', 'https://www.youtube.com/results?search_query=에픽하이 (EPIK HIGH)')\n",
      "('75위', '붉은 노을', 'BIGBANG (빅뱅)', 'Remember', 'https://www.youtube.com/results?search_query=Remember', 'https://www.youtube.com/results?search_query=BIGBANG (빅뱅)')\n",
      "('76위', '내 생애 가장 행복한 시간 (Feat. 허각)', 'MC몽', 'MISS ME OR DISS ME', 'https://www.youtube.com/results?search_query=MISS ME OR DISS ME', 'https://www.youtube.com/results?search_query=MC몽')\n",
      "('77위', 'Joker (Feat. JAMIE)', 'BIG Naughty (서동현)', 'Bucket List', 'https://www.youtube.com/results?search_query=Bucket List', 'https://www.youtube.com/results?search_query=BIG Naughty (서동현)')\n",
      "('78위', 'Paranoid', 'ASH ISLAND', 'ASH', 'https://www.youtube.com/results?search_query=ASH', 'https://www.youtube.com/results?search_query=ASH ISLAND')\n",
      "('79위', '하지마', '릴러말즈 (Leellamarz)', 'TOYSTORY3', 'https://www.youtube.com/results?search_query=TOYSTORY3', 'https://www.youtube.com/results?search_query=릴러말즈 (Leellamarz)')\n",
      "('80위', '로맨틱 겨울 (Feat. 김진호 Of SG워너비)', '김진표', 'Romantic 겨울', 'https://www.youtube.com/results?search_query=Romantic 겨울', 'https://www.youtube.com/results?search_query=김진표')\n",
      "('81위', 'And July (Feat. DEAN, DJ Friz)', '헤이즈 (Heize)', 'And July', 'https://www.youtube.com/results?search_query=And July', 'https://www.youtube.com/results?search_query=헤이즈 (Heize)')\n",
      "('82위', 'Ballerino', '리쌍', 'Black Sun', 'https://www.youtube.com/results?search_query=Black Sun', 'https://www.youtube.com/results?search_query=리쌍')\n",
      "('83위', '예술이야', '싸이 (PSY)', 'PSYFIVE (싸이파이브)', 'https://www.youtube.com/results?search_query=PSYFIVE (싸이파이브)', 'https://www.youtube.com/results?search_query=싸이 (PSY)')\n",
      "('84위', '불협화음 (Feat. AKMU) (Prod. GRAY)', 'Mudd the student', '쇼미더머니 10 Semi Final', 'https://www.youtube.com/results?search_query=쇼미더머니 10 Semi Final', 'https://www.youtube.com/results?search_query=Mudd the student')\n",
      "('85위', 'Beautiful (Feat. Skinny Brown)', 'ASH ISLAND', 'ISLAND', 'https://www.youtube.com/results?search_query=ISLAND', 'https://www.youtube.com/results?search_query=ASH ISLAND')\n",
      "('86위', '끝나지 않은 얘기 (Feat. 다이나믹 듀오)', '릴러말즈 (Leellamarz)', 'TOYSTORY3', 'https://www.youtube.com/results?search_query=TOYSTORY3', 'https://www.youtube.com/results?search_query=릴러말즈 (Leellamarz)')\n",
      "('87위', 'SOLO', '제니 (JENNIE)', 'SOLO', 'https://www.youtube.com/results?search_query=SOLO', 'https://www.youtube.com/results?search_query=제니 (JENNIE)')\n",
      "('88위', 'Kill This Love', 'BLACKPINK', 'KILL THIS LOVE', 'https://www.youtube.com/results?search_query=KILL THIS LOVE', 'https://www.youtube.com/results?search_query=BLACKPINK')\n",
      "('89위', '이 노래가 클럽에서 나온다면', '우디 (Woody)', '이 노래가 클럽에서 나온다면', 'https://www.youtube.com/results?search_query=이 노래가 클럽에서 나온다면', 'https://www.youtube.com/results?search_query=우디 (Woody)')\n",
      "('90위', 'Because', 'ASH ISLAND', 'Because', 'https://www.youtube.com/results?search_query=Because', 'https://www.youtube.com/results?search_query=ASH ISLAND')\n",
      "('91위', '우연히 봄', '로꼬', '냄새를 보는 소녀 OST Part.2', 'https://www.youtube.com/results?search_query=냄새를 보는 소녀 OST Part.2', 'https://www.youtube.com/results?search_query=로꼬')\n",
      "('92위', '몸매 (MOMMAE) (Feat. Ugly Duck)', '박재범', '몸매 (MOMMAE)', 'https://www.youtube.com/results?search_query=몸매 (MOMMAE)', 'https://www.youtube.com/results?search_query=박재범')\n",
      "('93위', '너의 로맨스에 내 이름을 써줘 (Prod. IVY GROUND)', '104 (백사)', '너의 로맨스에 내 이름을 써줘', 'https://www.youtube.com/results?search_query=너의 로맨스에 내 이름을 써줘', 'https://www.youtube.com/results?search_query=104 (백사)')\n",
      "('94위', 'DNA', '방탄소년단', \"LOVE YOURSELF 承 'Her'\", \"https://www.youtube.com/results?search_query=LOVE YOURSELF 承 'Her'\", 'https://www.youtube.com/results?search_query=방탄소년단')\n",
      "('95위', 'Good Day (Feat. 팔로알토) (Prod. 코드 쿤스트)', 'pH-1', '쇼미더머니 777 Episode 1', 'https://www.youtube.com/results?search_query=쇼미더머니 777 Episode 1', 'https://www.youtube.com/results?search_query=pH-1')\n",
      "('96위', '사이렌', '호미들', 'Ghetto Kids', 'https://www.youtube.com/results?search_query=Ghetto Kids', 'https://www.youtube.com/results?search_query=호미들')\n",
      "('97위', 'Glass (Feat. 원슈타인)', '우원재', 'comma', 'https://www.youtube.com/results?search_query=comma', 'https://www.youtube.com/results?search_query=우원재')\n",
      "('98위', \"10°0' 0° N 118°50 0° E (Feat. ASH ISLAND)\", '김승민', 'Rio Loves Tokyo Part.1', 'https://www.youtube.com/results?search_query=Rio Loves Tokyo Part.1', 'https://www.youtube.com/results?search_query=김승민')\n",
      "('99위', 'Nerdy Love (Feat. 백예린)', 'pH-1', 'Nerdy Love (Feat. 백예린)', 'https://www.youtube.com/results?search_query=Nerdy Love (Feat. 백예린)', 'https://www.youtube.com/results?search_query=pH-1')\n",
      "('100위', '삐딱하게 (Crooked)', 'G-DRAGON', \"쿠데타 (COUP D'ETAT)\", \"https://www.youtube.com/results?search_query=쿠데타 (COUP D'ETAT)\", 'https://www.youtube.com/results?search_query=G-DRAGON')\n"
     ]
    }
   ],
   "source": [
    "conn = sqlite3.connect(\"music.db\")\n",
    "\n",
    "cur = conn.cursor()\n",
    "# prin = \"select*from ''2022_11_25댄스'' \"\n",
    "cur.execute('SELECT * FROM {} '.format([ins[0]]))\n",
    "# cur.execute(prin)\n",
    "\n",
    "rows = cur.fetchall()\n",
    "\n",
    "for row in rows:\n",
    "    print(row)\n",
    "    \n",
    "conn.close()"
   ]
  },
  {
   "cell_type": "code",
   "execution_count": 204,
   "metadata": {},
   "outputs": [
    {
     "name": "stdout",
     "output_type": "stream",
     "text": [
      "['2022_11_25댄스']\n"
     ]
    },
    {
     "ename": "ProgrammingError",
     "evalue": "Incorrect number of bindings supplied. The current statement uses 1, and there are 18 supplied.",
     "output_type": "error",
     "traceback": [
      "\u001b[1;31m---------------------------------------------------------------------------\u001b[0m",
      "\u001b[1;31mProgrammingError\u001b[0m                          Traceback (most recent call last)",
      "Cell \u001b[1;32mIn [204], line 28\u001b[0m\n\u001b[0;32m     25\u001b[0m \u001b[39mprint\u001b[39m(result)\n\u001b[0;32m     27\u001b[0m inser\u001b[39m=\u001b[39m\u001b[39m'\u001b[39m\u001b[39minsert into tablename (name) values(?)\u001b[39m\u001b[39m'\u001b[39m\n\u001b[1;32m---> 28\u001b[0m cursor\u001b[39m.\u001b[39;49mexecute(inser,(singer))\n\u001b[0;32m     29\u001b[0m conn\u001b[39m.\u001b[39mcommit()\n\u001b[0;32m     31\u001b[0m cursor\u001b[39m.\u001b[39mexecute(\u001b[39m'''\u001b[39m\u001b[39mcreate table \u001b[39m\u001b[39m{}\u001b[39;00m\u001b[39m (ranking REAL, title TEXT, singer TEXT, album TEXT, youtube_title TEXT, youtube_singer TEXT); \u001b[39m\u001b[39m'''\u001b[39m\u001b[39m.\u001b[39mformat(singer))\n",
      "\u001b[1;31mProgrammingError\u001b[0m: Incorrect number of bindings supplied. The current statement uses 1, and there are 18 supplied."
     ]
    }
   ],
   "source": [
    "url = \"https://www.melon.com/chart/day/index.htm?classCd=GN0200\" # 멜론 발라드 차트 url \n",
    "hdr = {\"User-Agent\":\"Mozilla/5.0 (Windows NT 10.0; Win64; x64) AppleWebKit/537.36 (KHTML, like Gecko) Chrome/102.0.5005.61 Safari/537.36\"}\n",
    "req = urllib.request.Request(url, headers=hdr)\n",
    "html = urllib.request.urlopen(req).read()\n",
    "soup = BeautifulSoup(html, 'html.parser')\n",
    "\n",
    "conn = sqlite3.connect(\"music.db\")\n",
    "cursor = conn.cursor()\n",
    "\n",
    "lst50 = soup.select('.lst50, .lst100')\n",
    "\n",
    "genre = []\n",
    "\n",
    "paging = soup.find('div', class_ = 'calendar_prid').get_text().replace(\"\\n\",\"\").replace(\".\",\"_\")\n",
    "genre.append([paging])\n",
    "singer = (soup.select_one('td > div > div > div.ellipsis.rank02').a.text) # 멜론 사이트에서 가수 이름 가져와서 temp에 추가\n",
    "new_sin = []\n",
    "new_sin.append(singer)\n",
    "cursor.execute('''insert into tablename (name) values(?)''', (genre[0]))\n",
    "\n",
    "result=[]\n",
    "for i in genre:\n",
    "    i[0]=i[0].replace(\"'\",\"\")\n",
    "    result.append(i[0])\n",
    "print(result)\n",
    "\n",
    "inser='insert into tablename (name) values(?)'\n",
    "cursor.execute(inser,(singer))\n",
    "conn.commit()\n",
    "\n",
    "cursor.execute('''create table {} (ranking REAL, title TEXT, singer TEXT, album TEXT, youtube_title TEXT, youtube_singer TEXT); '''.format(singer))\n",
    "# # insert = 'create table {} (ranking REAL, title TEXT, singer TEXT, album TEXT, youtube_title TEXT, youtube_singer TEXT)'.format([new_link])\n",
    "# # cursor.execute(insert)\n",
    "# conn.commit()   \n",
    "\n"
   ]
  }
 ],
 "metadata": {
  "kernelspec": {
   "display_name": "Python 3.10.2 64-bit",
   "language": "python",
   "name": "python3"
  },
  "language_info": {
   "codemirror_mode": {
    "name": "ipython",
    "version": 3
   },
   "file_extension": ".py",
   "mimetype": "text/x-python",
   "name": "python",
   "nbconvert_exporter": "python",
   "pygments_lexer": "ipython3",
   "version": "3.10.2"
  },
  "orig_nbformat": 4,
  "vscode": {
   "interpreter": {
    "hash": "e0490b6dc23274fc4b99f7f9728dd8f7f25e55907c8566e06726599f273a4cfc"
   }
  }
 },
 "nbformat": 4,
 "nbformat_minor": 2
}
