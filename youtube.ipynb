{
 "cells": [
  {
   "cell_type": "code",
   "execution_count": 5,
   "metadata": {},
   "outputs": [],
   "source": [
    "import urllib.request\n",
    "from bs4 import BeautifulSoup\n",
    "from flask import Flask, render_template, request\n",
    "import sqlite3\n",
    "\n",
    "app = Flask(__name__)\n",
    "\n",
    "conn = sqlite3.connect(\"music.db\")\n",
    "cursor = conn.cursor()\n",
    "cursor.execute(\"DELETE FROM test\")\n",
    "\n",
    "conn.commit()"
   ]
  },
  {
   "cell_type": "code",
   "execution_count": 6,
   "metadata": {},
   "outputs": [],
   "source": [
    "na = \"강남\""
   ]
  },
  {
   "cell_type": "code",
   "execution_count": 7,
   "metadata": {},
   "outputs": [],
   "source": [
    "# url = \"https://www.youtube.com/results?search_query={}\".format(na)\n",
    "\n",
    "# print(url)\n",
    "\n",
    "\n",
    "\n",
    "\n",
    "def chart_balad_save():\n",
    "    url = \"https://www.melon.com/chart/day/index.htm?classCd=GN0500\" # 멜론 발라드 차트 url \n",
    "    hdr = {\"User-Agent\":\"Mozilla/5.0 (Windows NT 10.0; Win64; x64) AppleWebKit/537.36 (KHTML, like Gecko) Chrome/102.0.5005.61 Safari/537.36\"}\n",
    "    req = urllib.request.Request(url, headers=hdr)\n",
    "    html = urllib.request.urlopen(req).read()\n",
    "    soup = BeautifulSoup(html, 'html.parser')\n",
    "\n",
    "    conn = sqlite3.connect(\"music.db\")\n",
    "    cursor = conn.cursor()\n",
    "\n",
    "\n",
    "    \n",
    "    lst50 = soup.select('.lst50, .lst100')\n",
    "\n",
    "    genre = []\n",
    "\n",
    "    paging = soup.find('div', class_ = 'calendar_prid').get_text().replace(\"\\n\",\"\")\n",
    "    genre.append([paging])\n",
    "\n",
    "\n",
    "\n",
    "    melonList = []\n",
    "    for i in lst50:\n",
    "        ranking = (i.select_one(\"td > div > span.rank\").text+\"위\") # 멜론 사이트에서 발라드 순위 가져와서 temp에 추가\n",
    "        title = (i.select_one(\"td > div > div > div.ellipsis.rank01\").a.text) # 멜론 사이트에서 노래 제목 가져오서 temp에 추가\n",
    "        singer = (i.select_one('td > div > div > div.ellipsis.rank02').a.text) # 멜론 사이트에서 가수 이름 가져와서 temp에 추가\n",
    "        album = (i.select_one('td > div > div > div.ellipsis.rank03').a.text) # 멜론 사이트에서 앨범 이름 가져와서 temp에 주가\n",
    "        url_title = \"https://www.youtube.com/results?search_query={}\".format((i.select_one('td > div > div > div.ellipsis.rank03').a.text))\n",
    "        url_singer = \"https://www.youtube.com/results?search_query={}\".format((i.select_one('td > div > div > div.ellipsis.rank02').a.text))\n",
    "        melonList.append([ranking, title, singer, album]) # 멜론리스트에 temp에 있는 것들 추가\n",
    "        \n",
    "        inser='insert into test (ranking, title, singer, album, youtube_title, youtube_singer) values(?,?,?,?,?,?)'\n",
    "        cursor.execute(inser,(ranking, title, singer, album, url_title, url_singer))\n",
    "    conn.commit()\n",
    "\n",
    "\n",
    "chart_balad_save()\n"
   ]
  },
  {
   "cell_type": "code",
   "execution_count": null,
   "metadata": {},
   "outputs": [],
   "source": [
    "conn.close()"
   ]
  }
 ],
 "metadata": {
  "kernelspec": {
   "display_name": "Python 3.10.2 64-bit",
   "language": "python",
   "name": "python3"
  },
  "language_info": {
   "codemirror_mode": {
    "name": "ipython",
    "version": 3
   },
   "file_extension": ".py",
   "mimetype": "text/x-python",
   "name": "python",
   "nbconvert_exporter": "python",
   "pygments_lexer": "ipython3",
   "version": "3.10.2"
  },
  "orig_nbformat": 4,
  "vscode": {
   "interpreter": {
    "hash": "e0490b6dc23274fc4b99f7f9728dd8f7f25e55907c8566e06726599f273a4cfc"
   }
  }
 },
 "nbformat": 4,
 "nbformat_minor": 2
}
