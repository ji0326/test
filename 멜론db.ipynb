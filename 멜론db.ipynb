{
 "cells": [
  {
   "cell_type": "code",
   "execution_count": 7,
   "metadata": {},
   "outputs": [],
   "source": [
    "import urllib.request\n",
    "from bs4 import BeautifulSoup\n",
    "from flask import Flask, render_template, request\n",
    "import sqlite3\n",
    "\n",
    "app = Flask(__name__)\n",
    "\n",
    "conn = sqlite3.connect(\"music.db\")\n",
    "cursor = conn.cursor()\n"
   ]
  },
  {
   "cell_type": "code",
   "execution_count": 73,
   "metadata": {},
   "outputs": [],
   "source": [
    "#### tablename에 table이 있는 경우 그냥 데이터 삭제후 다시 웹 크롤링\n",
    "def chart_balad_save():\n",
    "    url = \"https://www.melon.com/chart/day/index.htm?classCd=GN0200\" # 멜론 발라드 차트 url \n",
    "    hdr = {\"User-Agent\":\"Mozilla/5.0 (Windows NT 10.0; Win64; x64) AppleWebKit/537.36 (KHTML, like Gecko) Chrome/102.0.5005.61 Safari/537.36\"}\n",
    "    req = urllib.request.Request(url, headers=hdr)\n",
    "    html = urllib.request.urlopen(req).read()\n",
    "    soup = BeautifulSoup(html, 'html.parser')\n",
    "\n",
    "    conn = sqlite3.connect(\"music.db\")\n",
    "    cursor = conn.cursor()\n",
    "\n",
    "\n",
    "    \n",
    "    lst50 = soup.select('.lst50, .lst100')\n",
    "\n",
    "    genre = []\n",
    "\n",
    "    paging = soup.find('div', class_ = 'calendar_prid').get_text().replace(\"\\n\",\"\").replace(\".\",\"_\")\n",
    "    genre.append([paging])\n",
    "\n",
    "    cursor.execute(\"DELETE FROM {}\".format(genre[0]))\n",
    "\n",
    "    melonList = []\n",
    "    for i in lst50:\n",
    "        ranking = (i.select_one(\"td > div > span.rank\").text+\"위\") # 멜론 사이트에서 발라드 순위 가져와서 temp에 추가\n",
    "        title = (i.select_one(\"td > div > div > div.ellipsis.rank01\").a.text) # 멜론 사이트에서 노래 제목 가져오서 temp에 추가\n",
    "        singer = (i.select_one('td > div > div > div.ellipsis.rank02').a.text) # 멜론 사이트에서 가수 이름 가져와서 temp에 추가\n",
    "        album = (i.select_one('td > div > div > div.ellipsis.rank03').a.text) # 멜론 사이트에서 앨범 이름 가져와서 temp에 주가\n",
    "        url_title = \"https://www.youtube.com/results?search_query={}\".format((i.select_one('td > div > div > div.ellipsis.rank03').a.text))\n",
    "        url_singer = \"https://www.youtube.com/results?search_query={}\".format((i.select_one('td > div > div > div.ellipsis.rank02').a.text))\n",
    "        melonList.append([ranking, title, singer, album]) # 멜론리스트에 temp에 있는 것들 추가\n",
    "        \n",
    "        inser='insert into {} (ranking, title, singer, album, youtube_title, youtube_singer) values(?,?,?,?,?,?)'.format(genre[0])\n",
    "        cursor.execute(inser,(ranking, title, singer, album, url_title, url_singer))\n",
    "    conn.commit()\n",
    "\n",
    "\n",
    "#### teblename에 없는 table일 경우 table을 생성하고 데이터 저장\n",
    "def chart_balad_save1():\n",
    "    url = \"https://www.melon.com/chart/day/index.htm?classCd=GN0200\" # 멜론 발라드 차트 url \n",
    "    hdr = {\"User-Agent\":\"Mozilla/5.0 (Windows NT 10.0; Win64; x64) AppleWebKit/537.36 (KHTML, like Gecko) Chrome/102.0.5005.61 Safari/537.36\"}\n",
    "    req = urllib.request.Request(url, headers=hdr)\n",
    "    html = urllib.request.urlopen(req).read()\n",
    "    soup = BeautifulSoup(html, 'html.parser')\n",
    "\n",
    "    conn = sqlite3.connect(\"music.db\")\n",
    "    cursor = conn.cursor()\n",
    "\n",
    "    lst50 = soup.select('.lst50, .lst100')\n",
    "\n",
    "    genre = []\n",
    "\n",
    "    paging = soup.find('div', class_ = 'calendar_prid').get_text().replace(\"\\n\",\"\").replace(\".\",\"_\")\n",
    "    genre.append([paging])\n",
    "\n",
    "    cursor.execute('''insert into tablename (name) values(?)''', (paging))\n",
    "\n",
    "    # inser='insert into tablename (name) values(?)'\n",
    "    # cursor.execute(inser,(paging))\n",
    "    conn.commit()\n",
    "\n",
    "\n",
    "    insert = 'create table {} (ranking REAL, title TEXT, singer TEXT, album TEXT, youtube_title TEXT, youtube_singer TEXT)'.format(paging)\n",
    "    cursor.execute(insert)\n",
    "    conn.commit()   \n",
    "\n",
    "    melonList = []\n",
    "    for i in lst50:\n",
    "        ranking = (i.select_one(\"td > div > span.rank\").text+\"위\") # 멜론 사이트에서 발라드 순위 가져와서 temp에 추가\n",
    "        title = (i.select_one(\"td > div > div > div.ellipsis.rank01\").a.text) # 멜론 사이트에서 노래 제목 가져오서 temp에 추가\n",
    "        singer = (i.select_one('td > div > div > div.ellipsis.rank02').a.text) # 멜론 사이트에서 가수 이름 가져와서 temp에 추가\n",
    "        album = (i.select_one('td > div > div > div.ellipsis.rank03').a.text) # 멜론 사이트에서 앨범 이름 가져와서 temp에 주가\n",
    "        url_title = \"https://www.youtube.com/results?search_query={}\".format((i.select_one('td > div > div > div.ellipsis.rank03').a.text))\n",
    "        url_singer = \"https://www.youtube.com/results?search_query={}\".format((i.select_one('td > div > div > div.ellipsis.rank02').a.text))\n",
    "        melonList.append([ranking, title, singer, album]) # 멜론리스트에 temp에 있는 것들 추가\n",
    "        \n",
    "        inser='insert into {} (ranking, title, singer, album, youtube_title, youtube_singer) values(?,?,?,?,?,?)'.format(paging)\n",
    "        cursor.execute(inser,(ranking, title, singer, album, url_title, url_singer))\n",
    "    conn.commit()\n"
   ]
  },
  {
   "cell_type": "code",
   "execution_count": 74,
   "metadata": {},
   "outputs": [
    {
     "ename": "ProgrammingError",
     "evalue": "Incorrect number of bindings supplied. The current statement uses 1, and there are 12 supplied.",
     "output_type": "error",
     "traceback": [
      "\u001b[1;31m---------------------------------------------------------------------------\u001b[0m",
      "\u001b[1;31mProgrammingError\u001b[0m                          Traceback (most recent call last)",
      "Cell \u001b[1;32mIn [74], line 26\u001b[0m\n\u001b[0;32m     24\u001b[0m         chart_balad_save()\n\u001b[0;32m     25\u001b[0m \u001b[39melse\u001b[39;00m:\n\u001b[1;32m---> 26\u001b[0m     chart_balad_save1()\n",
      "Cell \u001b[1;32mIn [73], line 56\u001b[0m, in \u001b[0;36mchart_balad_save1\u001b[1;34m()\u001b[0m\n\u001b[0;32m     53\u001b[0m paging \u001b[39m=\u001b[39m soup\u001b[39m.\u001b[39mfind(\u001b[39m'\u001b[39m\u001b[39mdiv\u001b[39m\u001b[39m'\u001b[39m, class_ \u001b[39m=\u001b[39m \u001b[39m'\u001b[39m\u001b[39mcalendar_prid\u001b[39m\u001b[39m'\u001b[39m)\u001b[39m.\u001b[39mget_text()\u001b[39m.\u001b[39mreplace(\u001b[39m\"\u001b[39m\u001b[39m\\n\u001b[39;00m\u001b[39m\"\u001b[39m,\u001b[39m\"\u001b[39m\u001b[39m\"\u001b[39m)\u001b[39m.\u001b[39mreplace(\u001b[39m\"\u001b[39m\u001b[39m.\u001b[39m\u001b[39m\"\u001b[39m,\u001b[39m\"\u001b[39m\u001b[39m_\u001b[39m\u001b[39m\"\u001b[39m)\n\u001b[0;32m     54\u001b[0m genre\u001b[39m.\u001b[39mappend([paging])\n\u001b[1;32m---> 56\u001b[0m cursor\u001b[39m.\u001b[39;49mexecute(\u001b[39m'''\u001b[39;49m\u001b[39minsert into tablename (name) values(?)\u001b[39;49m\u001b[39m'''\u001b[39;49m, (paging))\n\u001b[0;32m     58\u001b[0m \u001b[39m# inser='insert into tablename (name) values(?)'\u001b[39;00m\n\u001b[0;32m     59\u001b[0m \u001b[39m# cursor.execute(inser,(paging))\u001b[39;00m\n\u001b[0;32m     60\u001b[0m conn\u001b[39m.\u001b[39mcommit()\n",
      "\u001b[1;31mProgrammingError\u001b[0m: Incorrect number of bindings supplied. The current statement uses 1, and there are 12 supplied."
     ]
    }
   ],
   "source": [
    "url = \"https://www.melon.com/chart/day/index.htm?classCd=GN0200\" # 멜론 발라드 차트 url \n",
    "hdr = {\"User-Agent\":\"Mozilla/5.0 (Windows NT 10.0; Win64; x64) AppleWebKit/537.36 (KHTML, like Gecko) Chrome/102.0.5005.61 Safari/537.36\"}\n",
    "req = urllib.request.Request(url, headers=hdr)\n",
    "html = urllib.request.urlopen(req).read()\n",
    "soup = BeautifulSoup(html, 'html.parser')\n",
    "\n",
    "\n",
    "genre = []\n",
    "\n",
    "paging = soup.find('div', class_ = 'calendar_prid').get_text().replace(\"\\n\",\"\").replace(\".\",\"_\")\n",
    "genre.append([paging])\n",
    "\n",
    "\n",
    "conn=sqlite3.connect('music.db')\n",
    "conn.row_factory=sqlite3.Row\n",
    "cursor=conn.cursor()\n",
    "\n",
    "cursor.execute('select*from tablename where name =? ',(paging,))\n",
    "row = cursor.fetchone()\n",
    "conn.close()\n",
    "\n",
    "if row!=None:\n",
    "    if paging == row['name']:\n",
    "        chart_balad_save()\n",
    "else:\n",
    "    chart_balad_save1()\n"
   ]
  },
  {
   "cell_type": "code",
   "execution_count": 66,
   "metadata": {},
   "outputs": [
    {
     "name": "stdout",
     "output_type": "stream",
     "text": [
      "2022-11-25포크/블루스\n",
      "2022-11-25포크/블루스\n",
      "[['2022-11-25포크/블루스']]\n",
      "16\n"
     ]
    }
   ],
   "source": [
    "# 멜론 발라드 차트 데이터를 가져와 데이터 베이스에 저장\n",
    "\n",
    "url = \"https://www.melon.com/chart/day/index.htm?classCd=GN0800\" # 멜론 발라드 차트 url \n",
    "hdr = {\"User-Agent\":\"Mozilla/5.0 (Windows NT 10.0; Win64; x64) AppleWebKit/537.36 (KHTML, like Gecko) Chrome/102.0.5005.61 Safari/537.36\"}\n",
    "req = urllib.request.Request(url, headers=hdr)\n",
    "html = urllib.request.urlopen(req).read()\n",
    "soup = BeautifulSoup(html, 'html.parser')\n",
    "\n",
    "\n",
    "lst50 = soup.select('.lst50, .lst100')\n",
    "\n",
    "genre = []\n",
    "\n",
    "paging = soup.find('div', class_ = 'calendar_prid').get_text().replace(\"\\n\",\"\").replace(\".\",\"-\")\n",
    "genre.append([paging])\n",
    "\n",
    "new = len(paging)\n",
    "\n",
    "print(paging)\n",
    "print(genre[0][0])\n",
    "print(genre)\n",
    "print(new)\n",
    "def save():\n",
    "    inser='insert into tablename (name) values(?)'\n",
    "    cursor.execute(inser,(genre[0]))\n",
    "    conn.commit()\n",
    "\n",
    "def search():\n",
    "    conn=sqlite3.connect('music.db')\n",
    "    conn.row_factory=sqlite3.Row\n",
    "    cursor=conn.cursor()\n",
    "\n",
    "    cursor.execute('select*from tablename where name =? ',(paging,))\n",
    "    row = cursor.fetchone()\n",
    "    conn.close()\n",
    "\n",
    "    if row!=None:\n",
    "        if paging == row['name']:\n",
    "            print(\"!\")\n",
    "    else:\n",
    "        print(\"0\")\n"
   ]
  },
  {
   "cell_type": "code",
   "execution_count": 209,
   "metadata": {},
   "outputs": [],
   "source": [
    "conn.close()"
   ]
  },
  {
   "cell_type": "markdown",
   "metadata": {},
   "source": []
  }
 ],
 "metadata": {
  "kernelspec": {
   "display_name": "Python 3.10.2 64-bit",
   "language": "python",
   "name": "python3"
  },
  "language_info": {
   "codemirror_mode": {
    "name": "ipython",
    "version": 3
   },
   "file_extension": ".py",
   "mimetype": "text/x-python",
   "name": "python",
   "nbconvert_exporter": "python",
   "pygments_lexer": "ipython3",
   "version": "3.10.2"
  },
  "orig_nbformat": 4,
  "vscode": {
   "interpreter": {
    "hash": "e0490b6dc23274fc4b99f7f9728dd8f7f25e55907c8566e06726599f273a4cfc"
   }
  }
 },
 "nbformat": 4,
 "nbformat_minor": 2
}
